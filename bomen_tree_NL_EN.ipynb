{
 "cells": [
  {
   "cell_type": "code",
   "execution_count": 51,
   "metadata": {},
   "outputs": [],
   "source": [
    "import pandas as pd\n",
    "import geopandas as gpd"
   ]
  },
  {
   "cell_type": "code",
   "execution_count": 52,
   "metadata": {},
   "outputs": [],
   "source": [
    "# Panda settings for showing data (this is foremost done to more easily explore the data while processing it)\n",
    "pd.set_option('display.max_columns', None)\n",
    "pd.set_option('display.max_rows', None)\n",
    "pd.set_option('display.max_colwidth', None)"
   ]
  },
  {
   "cell_type": "code",
   "execution_count": 53,
   "metadata": {},
   "outputs": [],
   "source": [
    "input_folder = \"E://bomen_data//input//\"\n",
    "output_folder = \"E://bomen_data//output//\""
   ]
  },
  {
   "cell_type": "markdown",
   "metadata": {},
   "source": [
    "Translating the inspection data into English"
   ]
  },
  {
   "cell_type": "code",
   "execution_count": 54,
   "metadata": {},
   "outputs": [],
   "source": [
    "tree_inspections = pd.read_csv(input_folder+'bomen-veiligheidsinspecties-2024-11.csv')"
   ]
  },
  {
   "cell_type": "code",
   "execution_count": 55,
   "metadata": {},
   "outputs": [],
   "source": [
    "tree_inspections['Advice'] = tree_inspections['Snoeiwijze'].replace({\n",
    "    'Begeleidingssnoei': 'Formative pruning',\n",
    "    'Onderhoudssnoei': 'Maintenance pruning', # height 18m + & Trunk diameter 0,5 meter + IS high risk \n",
    "    'Knotten': 'Coppicing' ,\n",
    "    'Fruitsnoei': 'Fruit pruning',\n",
    "    'Terugzetten (extensief)': 'Selective thinning',\n",
    "    'Niet van toepassing': 'Not applicable',\n",
    "    'Terugzetten (intensief)': 'Systematic thinning',\n",
    "    'Scheren | knippen': 'Trimming | cutting',\n",
    "    'Kandelaberen': 'Pollarding', # high risk\n",
    "    'Innemen kroon' : 'Reduding crown' # high risk\n",
    "})"
   ]
  },
  {
   "cell_type": "code",
   "execution_count": 56,
   "metadata": {},
   "outputs": [],
   "source": [
    "tree_inspections.rename(columns={'Boomid': 'TreeId'}, inplace=True)\n",
    "tree_inspections.rename(columns={'Inspecterendeorganisatie': 'Inspecting_company'}, inplace=True)\n",
    "tree_inspections.rename(columns={'Inspectiedatum': 'Inspection_date'}, inplace=True)"
   ]
  },
  {
   "cell_type": "code",
   "execution_count": 57,
   "metadata": {},
   "outputs": [],
   "source": [
    "selected_columns = ['Id', 'TreeId','Inspecting_company','Inspection_date','Advice']\n",
    "tree_inspections.to_csv(output_folder+'tree_inspections_11_2024.csv', columns=selected_columns, index=False)"
   ]
  },
  {
   "cell_type": "markdown",
   "metadata": {},
   "source": [
    "Translating the tree data of Amsterdam from november 2024 data into English: source -> https://api.data.amsterdam.nl/v1/bomen/stamgegevens/?_format=geojson (nov 2024)"
   ]
  },
  {
   "cell_type": "code",
   "execution_count": null,
   "metadata": {},
   "outputs": [],
   "source": [
    "tree_data_memory_nov24 = gpd.read_file(input_folder+'bomen-stamgegevens_2024_11.json')\n"
   ]
  },
  {
   "cell_type": "code",
   "execution_count": null,
   "metadata": {},
   "outputs": [],
   "source": [
    "tree_data_nov24 = tree_data_memory_nov24 "
   ]
  },
  {
   "cell_type": "code",
   "execution_count": null,
   "metadata": {},
   "outputs": [],
   "source": [
    "tree_data_nov24.head(5)"
   ]
  },
  {
   "cell_type": "code",
   "execution_count": null,
   "metadata": {},
   "outputs": [],
   "source": [
    "diameter_trunks = tree_data_nov24['stamdiameterklasse'].unique()\n",
    "diameter_trunks"
   ]
  },
  {
   "cell_type": "code",
   "execution_count": null,
   "metadata": {},
   "outputs": [],
   "source": [
    "tree_data_nov24['diameter_tree_trunk'] = tree_data_nov24['stamdiameterklasse'].replace({\n",
    "     '0,2 tot 0,3 m.': \"0.2 to 0.3 m.\",\n",
    "     '0,1 tot 0,2 m.': \"0.1 to 0.2 m.\",\n",
    "     '0,3 tot 0,5 m.': \"0.3 to 0.5 m.\",\n",
    "     '0,5 tot 1 m.': \"0.5 to 1 m.\",\n",
    "     '1,0 tot 1,5 m.':\"1.0 to 1.5 m.\",\n",
    "     'Onbekend': \"unknown\",\n",
    "     '1,5 m. en groter': \"1.5 m. and bigger\",\n",
    "     'tot 0,1 m.': \"smaller than 0.1 m.\"\n",
    "})"
   ]
  },
  {
   "cell_type": "code",
   "execution_count": null,
   "metadata": {},
   "outputs": [],
   "source": [
    "tree_heigth = tree_data_nov24['boomhoogteklasseActueel'].unique()\n",
    "tree_heigth"
   ]
  },
  {
   "cell_type": "code",
   "execution_count": null,
   "metadata": {},
   "outputs": [],
   "source": [
    "tree_data_nov24['height_of_tree'] = tree_data_nov24['boomhoogteklasseActueel'].replace({\n",
    "     'e. 15 tot 18 m.': 'e. 15 to 18 ',\n",
    "     'c. 9 tot 12 m.': 'c. 9 to 12 m.' ,\n",
    "     'b. 6 tot 9 m.': 'b. 6 to 9 m.' ,\n",
    "     'd. 12 tot 15 m.': 'd. 12 to 15 m.',\n",
    "     'a. tot 6 m.': 'a. to 6 m.' ,\n",
    "     'f. 18 tot 24 m.': 'f. 18 to 24 m.',\n",
    "     'q. Niet van toepassing': 'q. Not applicable',\n",
    "     'g. 24 m. en hoger': 'g. 24 m. and higher',\n",
    "     'p. Niet te beoordelen': 'p. Impossible to determine'  ,\n",
    "     'r. Niet van toepassing (te vellen boom)': 'r. Not applicabel (tree need to be removed)' ,\n",
    "     'ZZ_Vervallen 6 tot 12 m.': 'ZZ_Discard 6 to 12 m.' ,\n",
    "     'ZZ_Vervallen 12 tot 18 m.': 'ZZ_Discard 12 to 18 m.'\n",
    "})"
   ]
  },
  {
   "cell_type": "code",
   "execution_count": null,
   "metadata": {},
   "outputs": [],
   "source": [
    "tree_heigth = tree_data_nov24['typeObject'].unique()\n",
    "tree_heigth"
   ]
  },
  {
   "cell_type": "code",
   "execution_count": null,
   "metadata": {},
   "outputs": [],
   "source": [
    "tree_data_nov24['object_type'] = tree_data_nov24['typeObject'].replace({\n",
    "     'Boom niet vrij uitgroeiend': 'non free growing tree',\n",
    "     'Boom vrij uitgroeiend':'free growing tree',\n",
    "     'Stobbe':'Stump/Stool',\n",
    "     'Gekandelaberde boom': 'Pollarded tree',\n",
    "     'Knotboom': 'Coppice tree',\n",
    "     'Vormboom': 'Topiary tree',\n",
    "     'Fruitboom': 'Fruit tree',\n",
    "     'Leiboom':'Espalier tree',\n",
    "     'Bosplantsoen': 'bare rooted woodland mix',\n",
    "     'Aanwijzingsteken' : 'Indication sign'\n",
    "\n",
    "})"
   ]
  },
  {
   "cell_type": "code",
   "execution_count": null,
   "metadata": {},
   "outputs": [],
   "source": [
    "tree_data_nov24.head(5)"
   ]
  },
  {
   "cell_type": "code",
   "execution_count": null,
   "metadata": {},
   "outputs": [],
   "source": [
    "tree_data_nov24.rename(columns={'typeEigenaarPlus': 'maintainer'}, inplace=True) #For educational purposes we parsed this to a new field called maintainer instead of owner\n",
    "tree_data_nov24.rename(columns={'jaarVanAanleg': 'year_planted'}, inplace=True)\n",
    "tree_data_nov24.rename(columns={'soortnaam': 'botanical_name'}, inplace=True)\n",
    "tree_data_nov24.rename(columns={'soortnaamTop': 'name'}, inplace=True)\n",
    "tree_data_nov24.rename(columns={'soortnaam': 'botanical_name'}, inplace=True)\n",
    "\n",
    "tree_data_nov24 = tree_data_nov24.drop(columns=['gbdBuurtId','typeObject','boomhoogteklasseActueel','stamdiameterklasse','typeBeheerderPlus','standplaats', 'standplaatsGedetailleerd', 'typeSoortnaam','soortnaamKort'])"
   ]
  },
  {
   "cell_type": "code",
   "execution_count": null,
   "metadata": {},
   "outputs": [],
   "source": [
    "tree_data_nov24.to_file(output_folder+'trees_nov_2024.geojson', driver='GeoJSON')"
   ]
  },
  {
   "cell_type": "markdown",
   "metadata": {},
   "source": [
    "Translating the tree data from October 2024 data into English obtained from https://maps.amsterdam.nl/open_geodata/ (currently, nov 2024 not available anymore)"
   ]
  },
  {
   "cell_type": "code",
   "execution_count": null,
   "metadata": {},
   "outputs": [],
   "source": [
    "tree_data_memory_oct24 = gpd.read_file(input_folder+'Trees_amsterdam_2024_10.gpkg')\n"
   ]
  },
  {
   "cell_type": "code",
   "execution_count": null,
   "metadata": {},
   "outputs": [],
   "source": [
    "tree_data_oct24 =tree_data_memory_oct24"
   ]
  },
  {
   "cell_type": "code",
   "execution_count": null,
   "metadata": {},
   "outputs": [],
   "source": [
    "tree_data_oct24.head()"
   ]
  },
  {
   "cell_type": "code",
   "execution_count": null,
   "metadata": {},
   "outputs": [],
   "source": [
    "tree_data_oct24['current_height_of_tree'] = tree_data_oct24['Boomhoogte'].replace({\n",
    "     '15 tot 18 m.': '15 to 18 ',\n",
    "     '9 tot 12 m.': '9 to 12 m.' ,\n",
    "     '6 tot 9 m.': '6 to 9 m.' ,\n",
    "     '12 tot 15 m.': '12 to 15 m.',\n",
    "     'tot 6 m.': 'to 6 m.' ,\n",
    "     '18 tot 24 m.': '18 to 24 m.',\n",
    "     'Niet van toepassing': 'Not applicable',\n",
    "     '24 m. en hoger': '24 m. and higher',\n",
    "     'Niet te beoordelen': 'Impossible to determine'  ,\n",
    "     'Niet van toepassing (te vellen': 'Not applicabel (tree need to be removed)' ,\n",
    "     'Vervallen 6 tot 12 m.': 'Discard 6 to 12 m.' ,\n",
    "     'Vervallen 12 tot 18 m.': 'Discard 12 to 18 m.'\n",
    "})"
   ]
  },
  {
   "cell_type": "code",
   "execution_count": null,
   "metadata": {},
   "outputs": [],
   "source": [
    "# https://www.vdberk.com/ has been used as a source to translate Dutch into English\n",
    "\n",
    "tree_data_oct24['type_detail'] = tree_data_oct24['Type_detail'].replace({\n",
    "    'Boom niet vrij uitgroeiend':'non free growing tree', \n",
    "    'Boom vrij uitgroeiend':'free growing tree',\n",
    "    'Knotboom':'Coppice tree',\n",
    "    'Vormboom - Blokboom':'Topiary tree - block', \n",
    "    'Gekandelaberde boom': 'Pollarded tree',\n",
    "    'Fruitboom - Laagstam':'Fruit tree - halfstem', \n",
    "    'Vormboom - Bolboom':'Topiary tree - sphere',\n",
    "    'Vormboom - Geschoren boom':'Topiary tree - trimmed', \n",
    "    'Vormboom': 'Topiary tree',\n",
    "    'Fruitboom': 'Fruit tree',\n",
    "    'Vormboom - Dakboom':'Topiary tree - roof', \n",
    "    'Fruitboom - Hoogstam':'Fruit tree - clearstem', \n",
    "    'Leiboom - Geknipte leiboom':'Espalier tree',\n",
    "    'Boom niet vrij uitgroeiend - Bolboo': 'non free growing tree', \n",
    "    'Leiboom':'Espalier tree',\n",
    "    'Bosplantsoen - Boomvormers':'Bare rooted woodland mix'\n",
    "})"
   ]
  },
  {
   "cell_type": "code",
   "execution_count": null,
   "metadata": {},
   "outputs": [],
   "source": [
    "tree_data_oct24.head()"
   ]
  },
  {
   "cell_type": "code",
   "execution_count": null,
   "metadata": {},
   "outputs": [],
   "source": [
    "tree_data_oct24['Beheerder'] = tree_data_oct24['Beheerder'].replace({\n",
    "    'Gemeente':'Gemeente Amsterdam'}) "
   ]
  },
  {
   "cell_type": "code",
   "execution_count": null,
   "metadata": {},
   "outputs": [],
   "source": [
    "tree_data_oct24.rename(columns={'Boomnummer': 'tree_number'}, inplace=True)\n",
    "tree_data_oct24.rename(columns={'Soortnaam': 'botanical_name'}, inplace=True)\n",
    "tree_data_oct24.rename(columns={'SoortnaamKortNL': 'Dutch_name'}, inplace=True)\n",
    "tree_data_oct24.rename(columns={'Jaar_van_aanleg': 'year_planted'}, inplace=True)\n",
    "tree_data_oct24.rename(columns={'Beheerder': 'maintainer'}, inplace=True)\n",
    "\n",
    "tree_data_oct24 = tree_data_oct24.drop(columns=['SoortnaamTop15','Type_detail','Standplaats_detail', 'Boomhoogte'])"
   ]
  },
  {
   "cell_type": "code",
   "execution_count": null,
   "metadata": {},
   "outputs": [],
   "source": [
    "tree_data_oct24.to_file(output_folder+'tree_data_oct24.gpkg', layer='oct_2024', driver=\"GPKG\")"
   ]
  },
  {
   "cell_type": "markdown",
   "metadata": {},
   "source": [
    "Translating the tree data from October 2023 data into English obtained from https://maps.amsterdam.nl/open_geodata/ (currently, nov 2024 not available anymore)"
   ]
  },
  {
   "cell_type": "code",
   "execution_count": null,
   "metadata": {},
   "outputs": [],
   "source": [
    "tree_data_memory_sept23 = gpd.read_file(input_folder+'Trees_Amsterdam_2023_09.shp')"
   ]
  },
  {
   "cell_type": "code",
   "execution_count": null,
   "metadata": {},
   "outputs": [],
   "source": [
    "tree_data_sept23 = tree_data_memory_sept23"
   ]
  },
  {
   "cell_type": "code",
   "execution_count": null,
   "metadata": {},
   "outputs": [],
   "source": [
    "tree_data_sept23.head()"
   ]
  },
  {
   "cell_type": "code",
   "execution_count": null,
   "metadata": {},
   "outputs": [],
   "source": [
    "unqiue = tree_data_sept23['typeObject'].unique()\n",
    "unqiue"
   ]
  },
  {
   "cell_type": "code",
   "execution_count": null,
   "metadata": {},
   "outputs": [],
   "source": [
    "tree_data_sept23['height_of_tree'] = tree_data_sept23['boomhoogte'].replace({\n",
    "    'b. 6 tot 9 m.': 'b. 6 to 9 m.' ,\n",
    "    'c. 9 tot 12 m.': 'c. 9 to 12 m.' ,\n",
    "    'a. tot 6 m.': 'a. to 6 m.' ,\n",
    "    'q. Niet van toepassing': 'q. Not applicable', \n",
    "    'e. 15 tot 18 m.': 'e. 15 to 18 ',\n",
    "    'd. 12 tot 15 m.': 'd. 12 to 15 m.',\n",
    "    'f. 18 tot 24 m.': 'f. 18 to 24 m.',\n",
    "    'g. 24 m. en hoger': 'g. 24 m. and higher'\n",
    "})"
   ]
  },
  {
   "cell_type": "code",
   "execution_count": null,
   "metadata": {},
   "outputs": [],
   "source": [
    "tree_data_sept23['diameter_tree_trunk'] = tree_data_sept23['stamdiamet'].replace({\n",
    "     '0,2 tot 0,3 m.': \"0.2 to 0.3 m.\",\n",
    "     '0,1 tot 0,2 m.': \"0.1 to 0.2 m.\",\n",
    "     '0,3 tot 0,5 m.': \"0.3 to 0.5 m.\",\n",
    "     '0,5 tot 1 m.': \"0.5 to 1 m.\",\n",
    "     '1,0 tot 1,5 m.':\"1.0 to 1.5 m.\",\n",
    "     'Onbekend': \"unknown\",\n",
    "     '1,5 m. en groter': \"1.5 m. and bigger\",\n",
    "     'tot 0,1 m.': \"smaller than 0.1 m.\"\n",
    "})"
   ]
  },
  {
   "cell_type": "code",
   "execution_count": null,
   "metadata": {},
   "outputs": [],
   "source": [
    "tree_data_sept23['object_type'] = tree_data_sept23['typeObject'].replace({\n",
    "     'Boom niet vrij uitgroeiend': 'non free growing tree',\n",
    "     'Boom vrij uitgroeiend':'free growing tree',\n",
    "     'Stobbe':'Stump/Stool',\n",
    "     'Gekandelaberde boom': 'Pollarded tree',\n",
    "     'Knotboom': 'Coppice tree',\n",
    "     'Vormboom': 'Topiary tree',\n",
    "     'Fruitboom': 'Fruit tree',\n",
    "     'Leiboom':'Espalier tree',\n",
    "     'Bosplantsoen': 'Bare rooted woodland mix',\n",
    "     'Aanwijzingsteken' : 'Indication sign'\n",
    "\n",
    "})"
   ]
  },
  {
   "cell_type": "code",
   "execution_count": null,
   "metadata": {},
   "outputs": [],
   "source": [
    "tree_data_sept23.rename(columns={'soortnaam': 'botanical_name'}, inplace=True)\n",
    "tree_data_sept23.rename(columns={'SoortnaamN': 'Dutch_name'}, inplace=True)\n",
    "tree_data_sept23.rename(columns={'jaarVanAan': 'year_planted'}, inplace=True)\n"
   ]
  },
  {
   "cell_type": "code",
   "execution_count": null,
   "metadata": {},
   "outputs": [],
   "source": [
    "\n",
    "tree_data_sept23 = tree_data_sept23.drop(columns=['soortnaamK','boomhoogte','stamdiamet', 'typeObject'])"
   ]
  },
  {
   "cell_type": "code",
   "execution_count": null,
   "metadata": {},
   "outputs": [],
   "source": [
    "tree_data_sept23.to_file(output_folder+\"tree_data_sept23\", driver=\"ESRI Shapefile\")"
   ]
  }
 ],
 "metadata": {
  "kernelspec": {
   "display_name": "Python 3",
   "language": "python",
   "name": "python3"
  },
  "language_info": {
   "codemirror_mode": {
    "name": "ipython",
    "version": 3
   },
   "file_extension": ".py",
   "mimetype": "text/x-python",
   "name": "python",
   "nbconvert_exporter": "python",
   "pygments_lexer": "ipython3",
   "version": "3.10.13"
  }
 },
 "nbformat": 4,
 "nbformat_minor": 2
}
